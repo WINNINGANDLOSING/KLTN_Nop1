{
 "cells": [
  {
   "cell_type": "markdown",
   "metadata": {},
   "source": [
    "# DJANGO APP"
   ]
  },
  {
   "cell_type": "markdown",
   "metadata": {},
   "source": [
    "go to dir 'demo'"
   ]
  },
  {
   "cell_type": "markdown",
   "metadata": {},
   "source": [
    "import ngrok"
   ]
  },
  {
   "cell_type": "code",
   "execution_count": 4,
   "metadata": {},
   "outputs": [
    {
     "data": {
      "text/plain": [
       "<NgrokTunnel: \"https://76ed-3-84-140-117.ngrok-free.app\" -> \"http://localhost:8000\">"
      ]
     },
     "execution_count": 4,
     "metadata": {},
     "output_type": "execute_result"
    }
   ],
   "source": [
    "from pyngrok import ngrok\n",
    "\n",
    "ngrok.kill()\n",
    "auth_token = \"2hYBdCXZcibj1PAfDu67G3NPRPE_dxC5RJ7eXJNFrmeLNXa4\"\n",
    "ngrok.set_auth_token(auth_token)\n",
    "ngrok.connect(8000)"
   ]
  },
  {
   "cell_type": "code",
   "execution_count": 5,
   "metadata": {},
   "outputs": [
    {
     "name": "stdout",
     "output_type": "stream",
     "text": [
      "No changes detected\n"
     ]
    }
   ],
   "source": [
    "!python /teamspace/studios/this_studio/demo/manage.py makemigrations"
   ]
  },
  {
   "cell_type": "code",
   "execution_count": 6,
   "metadata": {},
   "outputs": [
    {
     "name": "stdout",
     "output_type": "stream",
     "text": [
      "\u001b[36;1mOperations to perform:\u001b[0m\n",
      "\u001b[1m  Apply all migrations: \u001b[0madmin, auth, contenttypes, myapp, sessions\n",
      "\u001b[36;1mRunning migrations:\u001b[0m\n",
      "  No migrations to apply.\n"
     ]
    }
   ],
   "source": [
    "!python /teamspace/studios/this_studio/demo/manage.py migrate"
   ]
  },
  {
   "cell_type": "code",
   "execution_count": 9,
   "metadata": {},
   "outputs": [
    {
     "name": "stdout",
     "output_type": "stream",
     "text": [
      "Watching for file changes with StatReloader\n",
      "Performing system checks...\n",
      "\n",
      "System check identified no issues (0 silenced).\n",
      "August 17, 2024 - 05:50:01\n",
      "Django version 4.2.10, using settings 'demo.settings'\n",
      "Starting development server at http://127.0.0.1:8000/\n",
      "Quit the server with CONTROL-C.\n",
      "\n",
      "[17/Aug/2024 05:50:04] \u001b[m\"GET / HTTP/1.1\" 200 1689\u001b[0m\n",
      "[17/Aug/2024 05:50:05] \u001b[m\"GET /static/css/styles.css HTTP/1.1\" 200 7521\u001b[0m\n",
      "/home/zeus/miniconda3/envs/cloudspace/lib/python3.10/site-packages/langchain/_api/module_import.py:92: LangChainDeprecationWarning: Importing ChatMessageHistory from langchain.memory is deprecated. Please replace deprecated imports:\n",
      "\n",
      ">> from langchain.memory import ChatMessageHistory\n",
      "\n",
      "with new imports of:\n",
      "\n",
      ">> from langchain_community.chat_message_histories import ChatMessageHistory\n",
      "You can use the langchain cli to **automatically** upgrade many imports. Please see documentation here <https://python.langchain.com/v0.2/docs/versions/v0_2/>\n",
      "  warn_deprecated(\n",
      "Deep Lake Dataset in hub://hunter/Vietnamese-law-RAG-semantic-chuning already exists, loading from the storage\n",
      "[17/Aug/2024 05:51:00] \u001b[m\"GET /chatbot/ HTTP/1.1\" 200 7527\u001b[0m\n",
      "[17/Aug/2024 05:51:00] \u001b[m\"GET /static/css/styles.css HTTP/1.1\" 200 7521\u001b[0m\n",
      "Deep Lake Dataset in hub://hunter/Vietnamese-law-RAG-semantic-chuning already exists, loading from the storage\n",
      "[17/Aug/2024 05:51:53] \u001b[32m\"POST /chatbot/ HTTP/1.1\" 302 0\u001b[0m\n",
      "Deep Lake Dataset in hub://hunter/Vietnamese-law-RAG-semantic-chuning already exists, loading from the storage\n",
      "[17/Aug/2024 05:53:50] \u001b[m\"GET /chatbot/ HTTP/1.1\" 200 9010\u001b[0m\n",
      "[17/Aug/2024 05:53:50] \u001b[m\"GET /static/css/styles.css HTTP/1.1\" 200 7521\u001b[0m\n",
      "[17/Aug/2024 05:54:30] \u001b[m\"POST /clear-chat-history/ HTTP/1.1\" 200 17\u001b[0m\n",
      "Deep Lake Dataset in hub://hunter/Vietnamese-law-RAG-semantic-chuning already exists, loading from the storage\n",
      "[17/Aug/2024 05:55:00] \u001b[m\"GET /chatbot/ HTTP/1.1\" 200 3344\u001b[0m\n",
      "[17/Aug/2024 05:55:00] \u001b[m\"GET /static/css/styles.css HTTP/1.1\" 200 7521\u001b[0m\n",
      "Deep Lake Dataset in hub://hunter/Vietnamese-law-RAG-semantic-chuning already exists, loading from the storage\n",
      "[17/Aug/2024 05:55:50] \u001b[32m\"POST /chatbot/ HTTP/1.1\" 302 0\u001b[0m\n",
      "Deep Lake Dataset in hub://hunter/Vietnamese-law-RAG-semantic-chuning already exists, loading from the storage\n",
      "[17/Aug/2024 05:57:35] \u001b[m\"GET /chatbot/ HTTP/1.1\" 200 5663\u001b[0m\n",
      "[17/Aug/2024 05:57:36] \u001b[m\"GET /static/css/styles.css HTTP/1.1\" 200 7521\u001b[0m\n",
      "/teamspace/studios/this_studio/demo/myapp/RAG.py changed, reloading.\n",
      "Watching for file changes with StatReloader\n",
      "Performing system checks...\n",
      "\n",
      "System check identified no issues (0 silenced).\n",
      "August 17, 2024 - 06:00:35\n",
      "Django version 4.2.10, using settings 'demo.settings'\n",
      "Starting development server at http://127.0.0.1:8000/\n",
      "Quit the server with CONTROL-C.\n",
      "\n",
      "/home/zeus/miniconda3/envs/cloudspace/lib/python3.10/site-packages/langchain/_api/module_import.py:92: LangChainDeprecationWarning: Importing ChatMessageHistory from langchain.memory is deprecated. Please replace deprecated imports:\n",
      "\n",
      ">> from langchain.memory import ChatMessageHistory\n",
      "\n",
      "with new imports of:\n",
      "\n",
      ">> from langchain_community.chat_message_histories import ChatMessageHistory\n",
      "You can use the langchain cli to **automatically** upgrade many imports. Please see documentation here <https://python.langchain.com/v0.2/docs/versions/v0_2/>\n",
      "  warn_deprecated(\n",
      "Deep Lake Dataset in hub://hunter/Vietnamese-law-RAG-semantic-chuning already exists, loading from the storage\n",
      "[17/Aug/2024 06:02:11] \u001b[32m\"POST /chatbot/ HTTP/1.1\" 302 0\u001b[0m\n",
      "Deep Lake Dataset in hub://hunter/Vietnamese-law-RAG-semantic-chuning already exists, loading from the storage\n",
      "[17/Aug/2024 06:02:40] \u001b[m\"GET /chatbot/ HTTP/1.1\" 200 7863\u001b[0m\n",
      "[17/Aug/2024 06:02:40] \u001b[m\"GET /static/css/styles.css HTTP/1.1\" 200 7521\u001b[0m\n"
     ]
    }
   ],
   "source": [
    "!python /teamspace/studios/this_studio/demo/manage.py runserver 8000"
   ]
  },
  {
   "cell_type": "code",
   "execution_count": null,
   "metadata": {},
   "outputs": [],
   "source": []
  }
 ],
 "metadata": {
  "kernelspec": {
   "display_name": "cloudspace",
   "language": "python",
   "name": "python3"
  },
  "language_info": {
   "codemirror_mode": {
    "name": "ipython",
    "version": 3
   },
   "file_extension": ".py",
   "mimetype": "text/x-python",
   "name": "python",
   "nbconvert_exporter": "python",
   "pygments_lexer": "ipython3",
   "version": "3.10.10"
  }
 },
 "nbformat": 4,
 "nbformat_minor": 2
}
